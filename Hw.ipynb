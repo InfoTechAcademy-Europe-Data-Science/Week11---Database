{
 "cells": [
  {
   "cell_type": "markdown",
   "metadata": {},
   "source": [
    "HOMEWORK"
   ]
  },
  {
   "cell_type": "markdown",
   "metadata": {},
   "source": [
    "2. class4' veritabanı olusturun (M). Veritabanı silindi (M). Ayni veri tabanı yine olusturun (K)\n",
    "create database class4"
   ]
  },
  {
   "cell_type": "markdown",
   "metadata": {},
   "source": [
    "3. There is a one-to-one relationship between the country and city tables.\n",
    "   There is one-many relationship between film and inventory,language,filmactor tables.\n",
    "   There is a many-to-many relationship between payment and rental.\n",
    "   ?????????????????????????????????????????????*\n",
    "   ?????????????????????????????????????????????\n",
    "   ?????????????????????????????????????**??????\n"
   ]
  },
  {
   "cell_type": "markdown",
   "metadata": {},
   "source": [
    "5. ER modeldeki tablolardan 3 tanesini K olusturun.\n",
    "create table language(\n",
    "\tlanguage_id integer primary key not null,\n",
    "\tname varchar(15) not null,\n",
    "\tlast_update date\n",
    "\t)\n",
    "\n",
    "create table film_actor(\n",
    "\tactor_id integer primary key not null,\n",
    "\tfilm_id integer not null,\n",
    "\tlast_update date\n",
    "\t)\n",
    "\n",
    "\n",
    "create table inventory(\n",
    "\tinventory_id integer primary key not null,\n",
    "\tfilm_id integer not null,\n",
    "    store_id integer not null,\n",
    "\tlast_update date\n",
    "\t)"
   ]
  },
  {
   "cell_type": "markdown",
   "metadata": {},
   "source": [
    "6.ER modeldeki tablolardan 3 tanesini C olusturun.\n",
    "\n",
    "import psycopg2\n",
    "conn=psycopg2.connect(\"dbname=class4 user=postgres password=0000\")\n",
    "cur=conn.cursor()\n",
    "comand=''' create table rental\n",
    "(\n",
    "    rental_id integer primary key not null ,\n",
    "    rental_date date,\n",
    "    inventory_id integer not null,\n",
    "    customer_id integer not null,\n",
    "    return_date date,\n",
    "    staff_id integer not null,\n",
    "    last_update date    \n",
    ")\n",
    "'''\n",
    "cur.execute(comand)\n",
    "cur.close()\n",
    "conn.commit()\n",
    "conn.close()\n",
    "#############################################\n",
    "import psycopg2\n",
    "conn=psycopg2.connect(\"dbname=class4 user=postgres password=0000\")\n",
    "cur=conn.cursor()\n",
    "comand=''' create table payment\n",
    "(\n",
    "    payment_id integer primary key not null ,\n",
    "    customer_id integer not null,\n",
    "    staff_id integer not null,\n",
    "    rental_id integer,\n",
    "    amaount integer,\n",
    "    payment_date date\n",
    "      \n",
    ")\n",
    "'''\n",
    "cur.execute(comand)\n",
    "cur.close()\n",
    "conn.commit()\n",
    "conn.close()\n",
    "###############################################\n",
    "import psycopg2\n",
    "conn=psycopg2.connect(\"dbname=class4 user=postgres password=0000\")\n",
    "cur=conn.cursor()\n",
    "comand=''' create table actor\n",
    "(\n",
    "    actor_id integer primary key not null ,\n",
    "    first_name varchar(15) not null,\n",
    "    last_name varchar(15) not null,\n",
    "    last_update date\n",
    "    \n",
    ")\n",
    "'''\n",
    "cur.execute(comand)\n",
    "cur.close()\n",
    "conn.commit()\n",
    "conn.close()"
   ]
  },
  {
   "cell_type": "markdown",
   "metadata": {},
   "source": [
    "8- Olusturdugunuz 3 tabloya K ile 5 veri girişi yapin.\n",
    "insert into film_actor (actor_id,film_id,last_update) values (1,10,'2018-01-01')\n",
    "insert into film_actor (actor_id,film_id,last_update) values (2,11,'2020-01-01')\n",
    "insert into film_actor (actor_id,film_id,last_update) values (3,12,'2022-01-01')\n",
    "insert into film_actor (actor_id,film_id,last_update) values (4,13,'2022-05-13')\n",
    "insert into film_actor (actor_id,film_id,last_update) values (5,14,'2022-12-13')\n",
    "\n",
    "-----------------------------------------------------------------------------------\n",
    "insert into film_category (film_id,category_id,last_update) values (1,1,'2022-01-01')\n",
    "insert into film_category (film_id,category_id,last_update) values (2,1,'2022-02-01')\n",
    "insert into film_category (film_id,category_id,last_update) values (3,1,'2022-12-12')\n",
    "insert into film_category (film_id,category_id,last_update) values (4,2,'2020-12-12')\n",
    "insert into film_category (film_id,category_id,last_update) values (5,2,'2019-10-01')\n",
    "\n",
    "-----------------------------------------------------------------------------------\n",
    "insert into inventory (inventory_id,film_id,store_id,last_update) values (1,1,2,'2019-10-01')\n",
    "insert into inventory (inventory_id,film_id,store_id,last_update) values (2,2,2,'2020-10-01')\n",
    "insert into inventory (inventory_id,film_id,store_id,last_update) values (3,3,2,'2020-11-11')\n",
    "insert into inventory (inventory_id,film_id,store_id,last_update) values (4,4,1,'2020-01-11')\n",
    "insert into inventory (inventory_id,film_id,store_id,last_update) values (5,5,1,'2018-01-11')"
   ]
  },
  {
   "cell_type": "markdown",
   "metadata": {},
   "source": [
    "9- Olusturdugunuz 3 tabloya C ile 5 veri girişi yapin.\n",
    "import psycopg2\n",
    "conn=psycopg2.connect(\"dbname=class4 user=postgres password=0000\")\n",
    "cur=conn.cursor()\n",
    "\n",
    "--------------------------------------------------------------------\n",
    "cur.execute('INSERT INTO language VALUES (%s,%s,%s)',(1,'English','2020-10-10'))\n",
    "cur.execute('INSERT INTO language VALUES (%s,%s,%s)',(2,'Dutch','2021-11-11'))\n",
    "cur.execute('INSERT INTO language VALUES (%s,%s,%s)',(3,'French','2022-12-12'))\n",
    "cur.execute('INSERT INTO language VALUES (%s,%s)',(4,'Spanish'))\n",
    "cur.execute('INSERT INTO language VALUES (%s,%s,%s)',(5,'Turkish','2018-10-18'))\n",
    "\n",
    "----------------------------------------------------------------------\n",
    "cur.execute('INSERT INTO payment VALUES (%s,%s,%s,%s,%s,%s)',(1,1,1,1,1,'2001-01-01'))\n",
    "cur.execute('INSERT INTO payment VALUES (%s,%s,%s,%s,%s,%s)',(2,2,2,2,2,'2002-02-02'))\n",
    "cur.execute('INSERT INTO payment VALUES (%s,%s,%s,%s,%s,%s)',(3,3,3,3,3,'2003-03-03'))\n",
    "cur.execute('INSERT INTO payment VALUES (%s,%s,%s,%s,%s,%s)',(4,4,4,4,4,'2004-04-04'))\n",
    "cur.execute('INSERT INTO payment VALUES (%s,%s,%s,%s,%s,%s)',(5,5,5,5,5,'2005-05-05'))\n",
    "\n",
    "----------------------------------------------------------------------\n",
    "cur.execute('INSERT INTO rental VALUES (%s,%s,%s,%s,%s,%s,%s)',(1,'2001-01-01',1,1,'2001-01-02',1,'2001-01-02'))\n",
    "cur.execute('INSERT INTO rental VALUES (%s,%s,%s,%s,%s,%s,%s)',(2,'2002-02-02',2,2,'2002-01-02',1,'2002-01-02'))\n",
    "cur.execute('INSERT INTO rental VALUES (%s,%s,%s,%s,%s,%s,%s)',(3,'2003-03-03',3,3,'2003-01-02',1,'2003-01-02'))\n",
    "cur.execute('INSERT INTO rental VALUES (%s,%s,%s,%s,%s,%s,%s)',(4,'2004-04-04',4,4,'2004-01-02',1,'2004-01-02'))\n",
    "cur.execute('INSERT INTO rental VALUES (%s,%s,%s,%s,%s,%s,%s)',(5,'2005-05-05',5,5,'2005-01-02',1,'2005-01-02'))\n",
    "\n",
    "----------------------------------------------------------------------------\n",
    "cur.close()\n",
    "conn.commit()\n",
    "conn.close()\n"
   ]
  },
  {
   "cell_type": "markdown",
   "metadata": {},
   "source": [
    "11- 3 tablodaki birer veriyi K ile degistirin.\n",
    "update film_actor set actor_id=6 where actor_id=1 \n",
    "update film_category set category_id=18,last_update='1990-01-01' where film_id=1\n",
    "update inventory set film_id=11,store_id=11,last_update='1990-01-01' where inventory_id=1\n",
    " \n"
   ]
  },
  {
   "cell_type": "markdown",
   "metadata": {},
   "source": [
    "12- 3 tablodaki birer veriyi C ile degistirin.\n",
    "import psycopg2\n",
    "conn=psycopg2.connect(\"dbname=class4 user=postgres password=0000\")\n",
    "cur=conn.cursor()\n",
    "\n",
    "----------------------------------------------------------------------------\n",
    "cur.execute('UPDATE language SET language_id=%s WHERE last_update=%s',(6,'2020-10-10'))\n",
    "cur.execute('UPDATE payment SET customer_id=%s, staff_id=%s WHERE payment_id=%s',(6,6,1))\n",
    "cur.execute('UPDATE rental SET inventory_id=%s, staff_id=%s,customer_id=%s WHERE rental_id=%s',(6,6,6,1))\n",
    "\n",
    "--------------------------------------------------------------------------------------\n",
    "cur.close()\n",
    "conn.commit()\n",
    "conn.close()\n"
   ]
  },
  {
   "cell_type": "markdown",
   "metadata": {},
   "source": [
    "14- 3 tablonun son satirini K ile silinmiş.\n",
    "DELETE  FROM language where language_id in( \n",
    "\tselect language_id from language\t\n",
    "    ORDER BY language_id desc\n",
    "    LIMIT 1)\n",
    "\n",
    "DELETE  FROM payment where payment_id in( \n",
    "\tselect payment_id from payment\t\n",
    "    ORDER BY payment_id desc\n",
    "    LIMIT 1)\n",
    "\n",
    "DELETE  FROM rental where rental_id in( \n",
    "\tselect rental_id from rental\t\n",
    "    ORDER BY rental_id desc\n",
    "    LIMIT 1)\n"
   ]
  },
  {
   "cell_type": "markdown",
   "metadata": {},
   "source": [
    "15.3 tablonun son satirini C ile silinmiş.\n",
    "\n",
    "import psycopg2\n",
    "conn=psycopg2.connect(\"dbname=class4 user=postgres password=0000\")\n",
    "cur=conn.cursor()\n",
    "\n",
    "----------------------------------------------------------------\n",
    "command= \"\"\"DELETE  FROM film_actor where actor_id in( \n",
    "\tselect actor_id from film_actor\t\n",
    "    ORDER BY actor_id desc\n",
    "      LIMIT 1\n",
    "     )\"\"\"\n",
    "\n",
    "command= \"\"\"DELETE  FROM film_category where film_id in( \n",
    "\tselect film_id from film_category\t\n",
    "    ORDER BY film_id desc\n",
    "      LIMIT 1\n",
    "     )\"\n",
    "\n",
    "command= \"\"\"DELETE  FROM inventory where inventory_id in( \n",
    "\tselect inventory_id from inventory\t\n",
    "    ORDER BY inventory_id desc\n",
    "      LIMIT 1\n",
    "     )\"\"\"\n",
    "     \n",
    "     \n",
    "-----------------------------------------------------------------     \n",
    "cur.execute(command)\n",
    "cur.close()\n",
    "conn.commit()\n",
    "conn.close()"
   ]
  },
  {
   "cell_type": "markdown",
   "metadata": {},
   "source": [
    "17- 1 tabloyu K ile silinmiş.\n",
    "drop table category"
   ]
  },
  {
   "cell_type": "markdown",
   "metadata": {},
   "source": [
    "18- 1 tabloyu C ile silinmiş.\n",
    "import psycopg2\n",
    "conn=psycopg2.connect(\"dbname=class4 user=postgres password=0000\")\n",
    "cur=conn.cursor()\n",
    "command= \"\"\"Drop table film\"\"\"\n",
    "cur.execute(command)\n",
    "cur.close()\n",
    "conn.commit()\n",
    "conn.close()\n",
    "\n"
   ]
  },
  {
   "cell_type": "markdown",
   "metadata": {},
   "source": [
    "19.Kalan tablolardan 1 tanesinin 2 veya 3 sutununu K ile baska bir tablo olarak olusturun.\n",
    "CREATE table new_table AS SELECT actor_id,film_id FROM film_actor"
   ]
  },
  {
   "cell_type": "markdown",
   "metadata": {},
   "source": [
    "20.Kalan tablolardan 1 tanesinin 2 veya 3 sutununu C ile baska bir tablo olarak olusturun.\n",
    "\n",
    "import psycopg2\n",
    "conn=psycopg2.connect(\"dbname=class4 user=postgres password=0000\")\n",
    "cur=conn.cursor()\n",
    "command= \"\"\"CREATE table new_table2 AS SELECT film_id,category_id FROM film_category\"\"\"    \n",
    "cur.execute(command)\n",
    "cur.close()\n",
    "conn.commit()\n",
    "conn.close()\n",
    "\n"
   ]
  },
  {
   "cell_type": "markdown",
   "metadata": {},
   "source": [
    "22.Tablolardan 1 tanesini K ile truncate edin.\n",
    "truncate table language"
   ]
  },
  {
   "cell_type": "markdown",
   "metadata": {},
   "source": [
    "23.Tablolardan 1 tanesini C ile truncate edin.\n",
    "import psycopg2\n",
    "conn=psycopg2.connect(\"dbname=class4 user=postgres password=0000\")\n",
    "cur=conn.cursor()\n",
    "command= \"\"\"truncate table new_table\"\"\"     \n",
    "cur.execute(command)\n",
    "cur.close()\n",
    "conn.commit()\n",
    "conn.close()\n"
   ]
  },
  {
   "cell_type": "markdown",
   "metadata": {},
   "source": [
    "25- 2 tabloyu K ile silin.\n",
    "drop table payment\n",
    "drop table rental"
   ]
  },
  {
   "cell_type": "markdown",
   "metadata": {},
   "source": [
    "26- 2 tabloyu C ile silin.\n",
    "import psycopg2\n",
    "conn=psycopg2.connect(\"dbname=class4 user=postgres password=0000\")\n",
    "cur=conn.cursor()\n",
    "\n",
    "-------------------------------------------\n",
    "command= \"\"\"drop table film_actor\"\"\"\n",
    "command= \"\"\"drop table film_category\"\"\"\n",
    "     \n",
    "--------------------------------------------     \n",
    "cur.execute(command)\n",
    "cur.close()\n",
    "conn.commit()\n",
    "conn.close()\n"
   ]
  },
  {
   "cell_type": "markdown",
   "metadata": {},
   "source": [
    "28- Postgresql arayuzundeki son tabloyu da K ile silin.\n",
    "drop table new_table2"
   ]
  },
  {
   "cell_type": "markdown",
   "metadata": {},
   "source": [
    "30- Import ettiginiz bu tabloyu C ile silin.\n",
    "\n",
    "create table import_table(\n",
    "\tactor_id integer primary key not null,\n",
    "\tfilm_id integer not null\n",
    "\t)\n",
    "import edeceğimiz tabloya uygun bir tablo oluşturuyoruz. bundan sonra ise bilgileri import edeceğiz.\n",
    "29-30 olmadı. "
   ]
  },
  {
   "cell_type": "markdown",
   "metadata": {},
   "source": [
    "32- DB nizde 15 adet tablo olmasi lazim. Her tabloyu teker teker goruntuleyin ve kolon isimlerine bakarak, 5 tablodaki hangi kolonun PK ve FK olduğunu yazin.\n",
    "adress --> PK=adress_id , FK=address_city\n",
    "city --> PK=city_id, FK=city\n",
    "customer --> PK=Customer_id ,FK=customer_address_id\n",
    "film --> PK=film_id , FK=film_language_id\n",
    "film_actor --> PK=actor_id, FK= film_actor_actor_id, film_actor_film_id\n"
   ]
  },
  {
   "cell_type": "markdown",
   "metadata": {},
   "source": [
    "33- Action filmlerinin ortalama suresi ne kadar?\n",
    "select avg(length) from film where description like '%Action%' \n",
    "112.7045454545454545\n"
   ]
  },
  {
   "cell_type": "markdown",
   "metadata": {},
   "source": [
    "34-En cok staff olan store hangisidir?\n",
    "???????????"
   ]
  },
  {
   "cell_type": "markdown",
   "metadata": {},
   "source": [
    "35- 'Gene Willis' adli actorun oynadigi filmlerin ratingi nedir?\n",
    "select rating from film where film_id=(select film_id from film_actor where actor_id=(select actor_id from actor where first_name='Gene' and last_name='Willis'))\n",
    "????????????\n"
   ]
  },
  {
   "cell_type": "markdown",
   "metadata": {},
   "source": [
    "36-Aktif customer sayisi nedir?\n",
    "select count(*) from customer where active=1\n",
    "584"
   ]
  },
  {
   "cell_type": "markdown",
   "metadata": {},
   "source": [
    "37-'C' harfiyle baslayan filmler hangileridir?\n",
    "select * from film where title like 'C%'"
   ]
  },
  {
   "cell_type": "markdown",
   "metadata": {},
   "source": [
    "38-4$ den az odeme yapan musterilerin e-mail edresleri nedir?\n",
    "select email from customer where customer_id IN(SELECT customer_id from payment where amount<4 )"
   ]
  },
  {
   "cell_type": "markdown",
   "metadata": {},
   "source": [
    "39- Moscow'da ikamet eden staff ve customer tablosu? (sadece isim/soyisim sutunu olsun)\n",
    "select first_name,last_name from customer where customer_id IN(SELECT city_id from city where city='Moscow' )"
   ]
  },
  {
   "cell_type": "markdown",
   "metadata": {},
   "source": [
    "40- En az kiralanan 5 film hangisidir?"
   ]
  }
 ],
 "metadata": {
  "language_info": {
   "name": "python"
  },
  "orig_nbformat": 4
 },
 "nbformat": 4,
 "nbformat_minor": 2
}
